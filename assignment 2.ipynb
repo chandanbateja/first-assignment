{
 "cells": [
  {
   "cell_type": "markdown",
   "metadata": {},
   "source": [
    "## question 1"
   ]
  },
  {
   "cell_type": "code",
   "execution_count": 2,
   "metadata": {},
   "outputs": [],
   "source": [
    "import numpy as np"
   ]
  },
  {
   "cell_type": "code",
   "execution_count": 3,
   "metadata": {},
   "outputs": [],
   "source": [
    "a=np.random.random([10,1])\n"
   ]
  },
  {
   "cell_type": "code",
   "execution_count": 4,
   "metadata": {},
   "outputs": [
    {
     "name": "stdout",
     "output_type": "stream",
     "text": [
      "[[0.17024381]\n",
      " [0.57103322]\n",
      " [0.57545151]\n",
      " [0.31855624]\n",
      " [0.03886387]\n",
      " [0.14854413]\n",
      " [0.93773232]\n",
      " [0.18162421]\n",
      " [0.49780241]\n",
      " [0.68610047]]\n"
     ]
    }
   ],
   "source": [
    "print (a)"
   ]
  },
  {
   "cell_type": "code",
   "execution_count": 5,
   "metadata": {},
   "outputs": [
    {
     "data": {
      "text/plain": [
       "0.412595219354604"
      ]
     },
     "execution_count": 5,
     "metadata": {},
     "output_type": "execute_result"
    }
   ],
   "source": [
    "np.mean(a)"
   ]
  },
  {
   "cell_type": "markdown",
   "metadata": {},
   "source": [
    "## question 2\n"
   ]
  },
  {
   "cell_type": "code",
   "execution_count": 6,
   "metadata": {},
   "outputs": [],
   "source": [
    "b=np.random.random([20,1])"
   ]
  },
  {
   "cell_type": "code",
   "execution_count": 7,
   "metadata": {},
   "outputs": [
    {
     "name": "stdout",
     "output_type": "stream",
     "text": [
      "[[0.32843753]\n",
      " [0.76878979]\n",
      " [0.17835635]\n",
      " [0.11322107]\n",
      " [0.87113677]\n",
      " [0.8357492 ]\n",
      " [0.72744446]\n",
      " [0.53685546]\n",
      " [0.05084964]\n",
      " [0.11890432]\n",
      " [0.34159288]\n",
      " [0.96115565]\n",
      " [0.01267835]\n",
      " [0.33588094]\n",
      " [0.69681622]\n",
      " [0.35397818]\n",
      " [0.91739845]\n",
      " [0.7118612 ]\n",
      " [0.70323231]\n",
      " [0.34508867]]\n"
     ]
    }
   ],
   "source": [
    "print (b)"
   ]
  },
  {
   "cell_type": "code",
   "execution_count": 8,
   "metadata": {},
   "outputs": [
    {
     "data": {
      "text/plain": [
       "0.09257473330594748"
      ]
     },
     "execution_count": 8,
     "metadata": {},
     "output_type": "execute_result"
    }
   ],
   "source": [
    "np.var(b)"
   ]
  },
  {
   "cell_type": "code",
   "execution_count": 9,
   "metadata": {},
   "outputs": [
    {
     "data": {
      "text/plain": [
       "0.3042609625074296"
      ]
     },
     "execution_count": 9,
     "metadata": {},
     "output_type": "execute_result"
    }
   ],
   "source": [
    "np.std(b)"
   ]
  },
  {
   "cell_type": "markdown",
   "metadata": {},
   "source": [
    "## question 3"
   ]
  },
  {
   "cell_type": "code",
   "execution_count": 17,
   "metadata": {},
   "outputs": [],
   "source": [
    "c=np.random.random([10,20])"
   ]
  },
  {
   "cell_type": "code",
   "execution_count": 13,
   "metadata": {},
   "outputs": [],
   "source": [
    "d=np.random.random([20,25])"
   ]
  },
  {
   "cell_type": "code",
   "execution_count": 15,
   "metadata": {},
   "outputs": [],
   "source": [
    "e=np.dot(c,d)"
   ]
  },
  {
   "cell_type": "code",
   "execution_count": 48,
   "metadata": {},
   "outputs": [
    {
     "name": "stdout",
     "output_type": "stream",
     "text": [
      "[[5.04561954 3.60915066 4.12717162 5.08747076 4.3830975  3.84151058\n",
      "  3.84903688 4.23060251 4.85646525 5.45351955 4.12996559 4.58125683\n",
      "  4.5263062  4.5387415  4.46313363 4.1486004  4.66923285 4.3586141\n",
      "  3.98515013 4.84683739 4.13865503 4.59997463 4.77298284 4.79780062\n",
      "  4.28578554]\n",
      " [5.41304963 4.17080992 4.39590114 5.53744905 6.47119702 3.81401534\n",
      "  4.27324494 4.01040149 6.38705519 5.97117425 5.78537382 4.88923392\n",
      "  4.98886971 5.12921324 5.9268805  4.65171464 4.95521416 5.00532994\n",
      "  5.05518048 5.63348874 5.00094071 4.46430872 5.2094324  4.96677125\n",
      "  5.26867906]\n",
      " [5.994131   4.80514058 4.98996137 7.07114356 6.38731162 4.8898542\n",
      "  4.77249129 6.0442974  5.70721518 7.0930961  6.41115499 6.86295888\n",
      "  6.51335253 6.33287992 6.12614362 5.63589218 6.32397976 5.76798583\n",
      "  5.76985749 5.64575155 5.81149547 6.08585625 5.38458889 4.58391977\n",
      "  6.1149704 ]\n",
      " [4.26440259 3.21445369 4.40144978 4.75461697 4.44470513 3.65557142\n",
      "  2.91136694 3.4985202  4.03628172 4.6231187  3.31265308 3.89333499\n",
      "  4.99492614 4.52818008 4.65914904 3.68430347 3.58006223 3.75281833\n",
      "  4.01379046 3.52493656 3.33493026 3.83477697 4.48579596 3.5994297\n",
      "  4.42922284]\n",
      " [4.86687983 4.0347887  4.17182592 5.14185813 5.57737527 4.13736954\n",
      "  3.96149676 3.91098774 5.08914365 5.37861632 4.91545264 4.54855358\n",
      "  5.67230405 5.2115206  5.18623516 4.5780963  5.11854526 4.8905882\n",
      "  4.7229631  4.50574879 4.6814866  4.22243282 4.87219258 3.84960351\n",
      "  4.84390737]\n",
      " [4.99813985 3.81894347 3.71794778 4.93515479 5.54793598 3.60980201\n",
      "  3.77815299 3.93247753 4.63367101 5.55371108 5.48507061 5.019587\n",
      "  4.56073504 5.09690117 5.5734331  4.15339669 4.6928744  4.46227242\n",
      "  4.43377112 5.31011986 4.95230072 4.72530659 4.2533529  4.11464359\n",
      "  4.96494721]\n",
      " [5.01613581 4.63868706 4.2337204  5.39149636 5.44376468 4.75015906\n",
      "  3.72264459 3.87675866 4.3570398  5.40751296 5.18049292 5.5093286\n",
      "  4.83138911 5.4609197  5.90240034 5.15438882 4.35469613 3.94398924\n",
      "  5.29259161 3.84262901 5.22500618 5.1353434  5.25143088 4.47104961\n",
      "  5.36841308]\n",
      " [6.02096997 4.28146128 4.7563256  6.39407622 5.75299897 4.3876872\n",
      "  4.13547668 4.17244852 5.42055947 6.22817899 5.66323974 5.47783084\n",
      "  5.23578366 5.60766903 5.81379176 5.1400648  4.98586793 4.64663335\n",
      "  4.69520313 5.02052465 5.40167384 5.07360667 5.34702298 4.24166115\n",
      "  5.47859346]\n",
      " [5.72878631 4.79922306 4.68694734 6.27285799 6.46180805 4.75768122\n",
      "  4.94049938 4.51157852 6.43502845 6.76036505 6.12737797 5.8886617\n",
      "  5.42579896 5.43172832 6.44618295 5.33976825 5.68594697 5.11164806\n",
      "  5.50367719 6.26422352 6.06944696 5.46425579 5.71180356 4.90900223\n",
      "  5.82611329]\n",
      " [6.53807153 4.70928301 5.46066118 6.44477961 6.28115818 4.69660793\n",
      "  4.64715903 5.19523095 5.61163059 6.8805668  5.94100539 6.20005947\n",
      "  5.88835342 6.04802376 6.26394207 5.76825847 5.29332398 5.90395261\n",
      "  5.00860038 5.47411974 5.83191815 6.30227256 5.03661422 4.5244013\n",
      "  5.71679804]]\n"
     ]
    }
   ],
   "source": [
    "print (e)"
   ]
  },
  {
   "cell_type": "code",
   "execution_count": 36,
   "metadata": {},
   "outputs": [
    {
     "data": {
      "text/plain": [
       "(10, 25)"
      ]
     },
     "execution_count": 36,
     "metadata": {},
     "output_type": "execute_result"
    }
   ],
   "source": [
    "e.shape"
   ]
  },
  {
   "cell_type": "code",
   "execution_count": 37,
   "metadata": {},
   "outputs": [
    {
     "data": {
      "text/plain": [
       "1253.0430011395274"
      ]
     },
     "execution_count": 37,
     "metadata": {},
     "output_type": "execute_result"
    }
   ],
   "source": [
    "np.sum(e)\n",
    "      "
   ]
  },
  {
   "cell_type": "markdown",
   "metadata": {},
   "source": [
    "## question 4"
   ]
  },
  {
   "cell_type": "code",
   "execution_count": 38,
   "metadata": {},
   "outputs": [],
   "source": [
    "import numpy as np"
   ]
  },
  {
   "cell_type": "code",
   "execution_count": 39,
   "metadata": {},
   "outputs": [],
   "source": [
    "w = np.arange(10).reshape(10,1)"
   ]
  },
  {
   "cell_type": "code",
   "execution_count": 40,
   "metadata": {},
   "outputs": [],
   "source": [
    "def myfunc(x,axis):\n",
    "    return 1/(1+ np.exp(-x))"
   ]
  },
  {
   "cell_type": "code",
   "execution_count": 41,
   "metadata": {},
   "outputs": [
    {
     "data": {
      "text/plain": [
       "array([[0.5       ],\n",
       "       [0.73105858],\n",
       "       [0.88079708],\n",
       "       [0.95257413],\n",
       "       [0.98201379],\n",
       "       [0.99330715],\n",
       "       [0.99752738],\n",
       "       [0.99908895],\n",
       "       [0.99966465],\n",
       "       [0.99987661]])"
      ]
     },
     "execution_count": 41,
     "metadata": {},
     "output_type": "execute_result"
    }
   ],
   "source": [
    "np.apply_over_axes(myfunc,w,1)"
   ]
  },
  {
   "cell_type": "code",
   "execution_count": null,
   "metadata": {},
   "outputs": [],
   "source": []
  },
  {
   "cell_type": "code",
   "execution_count": null,
   "metadata": {},
   "outputs": [],
   "source": []
  },
  {
   "cell_type": "code",
   "execution_count": null,
   "metadata": {},
   "outputs": [],
   "source": []
  },
  {
   "cell_type": "code",
   "execution_count": null,
   "metadata": {},
   "outputs": [],
   "source": []
  }
 ],
 "metadata": {
  "kernelspec": {
   "display_name": "Python 3",
   "language": "python",
   "name": "python3"
  },
  "language_info": {
   "codemirror_mode": {
    "name": "ipython",
    "version": 3
   },
   "file_extension": ".py",
   "mimetype": "text/x-python",
   "name": "python",
   "nbconvert_exporter": "python",
   "pygments_lexer": "ipython3",
   "version": "3.6.5"
  }
 },
 "nbformat": 4,
 "nbformat_minor": 2
}
